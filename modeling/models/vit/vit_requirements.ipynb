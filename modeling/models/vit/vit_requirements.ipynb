{
 "cells": [
  {
   "cell_type": "markdown",
   "metadata": {},
   "source": [
    "### EC2 ViT Setup\n",
    "Based on a [blog post](https://arinzeakutekwe.medium.com/how-to-configure-nvidia-gpu-to-work-with-tensorflow-2-on-aws-sagemaker-1be98b9db464) by Arinze Akutekwe"
   ]
  },
  {
   "cell_type": "markdown",
   "metadata": {},
   "source": [
    "**Step 0**: Open a terminal for the VM instance.\n",
    "\n",
    "- Check which CUDA version is installed:\n",
    "\n",
    "`nvidia-smi`\n",
    "\n",
    "`nvcc -V`"
   ]
  },
  {
   "cell_type": "markdown",
   "metadata": {},
   "source": [
    "**Step 1**: Install CUDA\n",
    "\n",
    "`wget https://developer.download.nvidia.com/compute/cuda/11.2.0/local_installers/cuda_11.2.0_460.27.04_linux.run\n",
    "`\n",
    "\n",
    "`sudo sh cuda_11.2.0_460.27.04_linux.run`\n",
    "\n",
    "Respond to three prompts:\n",
    "1. Accept the EULA and press Enter\n",
    "2. Scroll down to install and press Enter\n",
    "3. Highlight Yes and press Enter"
   ]
  },
  {
   "cell_type": "markdown",
   "metadata": {},
   "source": [
    "**Step 2**: Install cuDNN\n",
    "\n",
    "The appropriate cuDNN library must first be downloaded from NVIDIA's developer site and uploaded into S3."
   ]
  },
  {
   "cell_type": "code",
   "execution_count": null,
   "metadata": {},
   "outputs": [],
   "source": [
    "import boto3\n",
    "\n",
    "bucket = 'wafer-capstone'\n",
    "fn = 'libcudnn8-8.0.5.39-1.cuda11.1.x86_64.rpm'\n",
    "orig_file = f'{fn}'\n",
    "dest_file = f'../home/ec2-user/{fn}'\n",
    "\n",
    "# connect to S3 bucket and download file\n",
    "s3 = boto3.resource('s3')\n",
    "s3.Bucket(bucket).download_file(orig_file, dest_file)"
   ]
  },
  {
   "cell_type": "markdown",
   "metadata": {},
   "source": [
    "`cp SageMaker/libcudnn8-8.0.5.39-1.cuda11.1.x86_64.rpm /home/ec2-user/`\n",
    "\n",
    "`sudo rpm -i libcudnn8-8.0.5.39-1.cuda11.1.x86_64.rpm`"
   ]
  },
  {
   "cell_type": "markdown",
   "metadata": {},
   "source": [
    "### Install packages for running ViT models"
   ]
  },
  {
   "cell_type": "code",
   "execution_count": null,
   "metadata": {},
   "outputs": [],
   "source": [
    "!pip install --upgrade pip"
   ]
  },
  {
   "cell_type": "code",
   "execution_count": null,
   "metadata": {},
   "outputs": [],
   "source": [
    "!pip install tensorflow-gpu==2.4.0"
   ]
  },
  {
   "cell_type": "code",
   "execution_count": null,
   "metadata": {},
   "outputs": [],
   "source": [
    "!pip install tensorflow_addons"
   ]
  },
  {
   "cell_type": "code",
   "execution_count": null,
   "metadata": {},
   "outputs": [],
   "source": [
    "!pip install vit-keras"
   ]
  },
  {
   "cell_type": "code",
   "execution_count": null,
   "metadata": {},
   "outputs": [],
   "source": [
    "!pip install pickle5"
   ]
  },
  {
   "cell_type": "code",
   "execution_count": null,
   "metadata": {},
   "outputs": [],
   "source": []
  }
 ],
 "metadata": {
  "kernelspec": {
   "display_name": "Python 3",
   "language": "python",
   "name": "python3"
  },
  "language_info": {
   "codemirror_mode": {
    "name": "ipython",
    "version": 3
   },
   "file_extension": ".py",
   "mimetype": "text/x-python",
   "name": "python",
   "nbconvert_exporter": "python",
   "pygments_lexer": "ipython3",
   "version": "3.8.3"
  }
 },
 "nbformat": 4,
 "nbformat_minor": 5
}
