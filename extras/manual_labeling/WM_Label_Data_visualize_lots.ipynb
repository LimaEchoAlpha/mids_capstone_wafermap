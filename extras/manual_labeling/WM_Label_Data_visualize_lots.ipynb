{
 "cells": [
  {
   "cell_type": "markdown",
   "metadata": {},
   "source": [
    "### Label Data\n",
    "\n",
    "Modified Erik's script to visualize an entire lot (for context while manually labeling).  "
   ]
  },
  {
   "cell_type": "code",
   "execution_count": 2,
   "metadata": {},
   "outputs": [],
   "source": [
    "import numpy as np\n",
    "import matplotlib.pyplot as plt\n",
    "import pandas as pd\n",
    "import os, json\n",
    "from matplotlib import colors\n",
    "from datetime import datetime as dt\n",
    "from IPython.display import clear_output\n",
    "%matplotlib inline\n",
    "\n",
    "import cv2\n",
    "\n",
    "# !pip install pickle5 > /dev/null\n",
    "# import pickle5 as pickle\n",
    "\n",
    "# def read_pickle(path):\n",
    "#     with open(path, \"rb\") as fh:\n",
    "#         df = pickle.load(fh)\n",
    "#     return df\n",
    "\n",
    "\n",
    "# Dictionary of XKCD color map\n",
    "cm_xkcd = colors.XKCD_COLORS.copy()\n",
    "# make a color map of fixed colors - blue passing die, fuchsia failing die\n",
    "cmap = colors.ListedColormap([cm_xkcd['xkcd:white'], cm_xkcd['xkcd:azure'], cm_xkcd['xkcd:fuchsia']])\n",
    "\n",
    "df = pd.read_pickle('WM_unlabeled.pkl')\n",
    "\n",
    "# remove corrupt imgs\n",
    "df['zero_count'] = df.WM.apply(lambda x: np.count_nonzero(x==0))\n",
    "df = df[df['zero_count'] < 730].copy()\n",
    "\n",
    "n = 600\n",
    "ranges = list(zip([i*n+1 if i else i for i in range(5)],[i*n for i in range(1,6)]))\n",
    "users = ['daniel', 'erik', 'lea', 'naga', 'scott']"
   ]
  },
  {
   "cell_type": "code",
   "execution_count": 3,
   "metadata": {},
   "outputs": [
    {
     "name": "stdout",
     "output_type": "stream",
     "text": [
      "index range:\t(0, 600)\n"
     ]
    },
    {
     "data": {
      "text/plain": [
       "['lot2006',\n",
       " 'lot2036',\n",
       " 'lot2201',\n",
       " 'lot2250',\n",
       " 'lot2880',\n",
       " 'lot2902',\n",
       " 'lot2910',\n",
       " 'lot2928',\n",
       " 'lot2954',\n",
       " 'lot2982',\n",
       " 'lot3005',\n",
       " 'lot3106',\n",
       " 'lot3157',\n",
       " 'lot3270',\n",
       " 'lot3275',\n",
       " 'lot3291',\n",
       " 'lot3516',\n",
       " 'lot3524',\n",
       " 'lot3539',\n",
       " 'lot3561',\n",
       " 'lot3671',\n",
       " 'lot3739',\n",
       " 'lot3819',\n",
       " 'lot3823',\n",
       " 'lot3968']"
      ]
     },
     "execution_count": 3,
     "metadata": {},
     "output_type": "execute_result"
    }
   ],
   "source": [
    "# enter your name like you see it above\n",
    "user = 'daniel'\n",
    "\n",
    "user_n = users.index(user)\n",
    "rng = ranges[user_n]\n",
    "\n",
    "# print index for users to label\n",
    "print(f'index range:\\t{rng}')\n",
    "\n",
    "test_lots = df.iloc[rng[0]:rng[1]].lotName.unique().tolist()\n",
    "user_prompt = \"0: 'none', 1: 'Edge-Ring', 2: 'Edge-Loc', 3: 'Center',\\n4: 'Loc', 5: 'Scratch', 6: 'Random', 7: 'Donut', 8: 'Near-full'\\n9: CORRUPT DATA\\n\"\n",
    "user_labels = {i:[] for i in test_lots}\n",
    "\n",
    "# display first 5 lots to be labeled\n",
    "test_lots"
   ]
  },
  {
   "cell_type": "code",
   "execution_count": 4,
   "metadata": {},
   "outputs": [
    {
     "data": {
      "text/plain": [
       "25"
      ]
     },
     "execution_count": 4,
     "metadata": {},
     "output_type": "execute_result"
    }
   ],
   "source": [
    "len(test_lots)"
   ]
  },
  {
   "cell_type": "code",
   "execution_count": null,
   "metadata": {
    "tags": []
   },
   "outputs": [
    {
     "name": "stdout",
     "output_type": "stream",
     "text": [
      "lot3968\n"
     ]
    },
    {
     "data": {
      "image/png": "[encoded data removed]",
      "text/plain": [
       "<Figure size 720x720 with 25 Axes>"
      ]
     },
     "metadata": {
      "needs_background": "light"
     },
     "output_type": "display_data"
    }
   ],
   "source": [
    "for lot in test_lots:\n",
    "    \n",
    "    # select lot from df\n",
    "    lot_df = df[df.lotName == lot]  \n",
    "    print(f'{lot}')\n",
    "    \n",
    "\n",
    "    fig, axs = plt.subplots(5, 5, figsize=[10,10])\n",
    "    fig.tight_layout()\n",
    "\n",
    "    # Nested for loops to loop through all digits and number of examples input for plotting\n",
    "    for n_row in range(min(25, lot_df.shape[0])):\n",
    "        #img = lot_df.WM.iloc[n_row]\n",
    "        #ret, thresh_img = cv2.threshold(img, 127, 255, cv2.THRESH_BINARY)\n",
    "        img = lot_df.waferMap.iloc[n_row]\n",
    "        ret, thresh_img = cv2.threshold(img, 1, 1, cv2.THRESH_BINARY)\n",
    "        index = lot_df.waferIndex.iloc[n_row]\n",
    "\n",
    "        # imshow to plot image in axs i,j location in plot\n",
    "        j = n_row % 5\n",
    "        i = int(n_row/5)\n",
    "        axs[i, j].imshow(thresh_img,\n",
    "                         interpolation='none',\n",
    "                         cmap=cmap)\n",
    "        axs[i, j].axis('off')\n",
    "\n",
    "        # label the figure with the index# and defect classification [for future reference]\n",
    "        axs[i, j].set_title(f'{index}', fontsize=10)\n",
    "        \n",
    "    plt.show()\n",
    "    \n",
    "    input('Press enter to see next lot')\n",
    "    \n",
    "    clear_output(wait=True)\n",
    "    "
   ]
  },
  {
   "cell_type": "code",
   "execution_count": null,
   "metadata": {},
   "outputs": [],
   "source": []
  },
  {
   "cell_type": "code",
   "execution_count": null,
   "metadata": {},
   "outputs": [],
   "source": []
  },
  {
   "cell_type": "code",
   "execution_count": 22,
   "metadata": {},
   "outputs": [
    {
     "data": {
      "text/plain": [
       "<matplotlib.image.AxesImage at 0x7fabae29aa20>"
      ]
     },
     "execution_count": 22,
     "metadata": {},
     "output_type": "execute_result"
    },
    {
     "data": {
      "image/png": "[encoded data removed]",
      "text/plain": [
       "<Figure size 432x288 with 1 Axes>"
      ]
     },
     "metadata": {
      "needs_background": "light"
     },
     "output_type": "display_data"
    }
   ],
   "source": [
    "lot_df = df[df.lotName == 'lot5462']\n",
    "x = lot_df.waferMap.iloc[1]\n",
    "plt.imshow(x)"
   ]
  },
  {
   "cell_type": "code",
   "execution_count": 23,
   "metadata": {},
   "outputs": [
    {
     "data": {
      "text/plain": [
       "array([0, 1], dtype=uint8)"
      ]
     },
     "execution_count": 23,
     "metadata": {},
     "output_type": "execute_result"
    }
   ],
   "source": [
    "np.unique(x)"
   ]
  },
  {
   "cell_type": "code",
   "execution_count": 24,
   "metadata": {},
   "outputs": [
    {
     "data": {
      "text/html": [
       "<div>\n",
       "<style scoped>\n",
       "    .dataframe tbody tr th:only-of-type {\n",
       "        vertical-align: middle;\n",
       "    }\n",
       "\n",
       "    .dataframe tbody tr th {\n",
       "        vertical-align: top;\n",
       "    }\n",
       "\n",
       "    .dataframe thead th {\n",
       "        text-align: right;\n",
       "    }\n",
       "</style>\n",
       "<table border=\"1\" class=\"dataframe\">\n",
       "  <thead>\n",
       "    <tr style=\"text-align: right;\">\n",
       "      <th></th>\n",
       "      <th>waferMap</th>\n",
       "      <th>dieSize</th>\n",
       "      <th>lotName</th>\n",
       "      <th>waferIndex</th>\n",
       "      <th>failureType</th>\n",
       "      <th>encoding</th>\n",
       "      <th>WM</th>\n",
       "      <th>zero_count</th>\n",
       "    </tr>\n",
       "  </thead>\n",
       "  <tbody>\n",
       "    <tr>\n",
       "      <th>11669</th>\n",
       "      <td>[[0, 0, 0, 0, 0, 0, 0, 0, 0, 0, 0, 0, 0, 0, 0,...</td>\n",
       "      <td>2973.0</td>\n",
       "      <td>lot2006</td>\n",
       "      <td>4.0</td>\n",
       "      <td>[]</td>\n",
       "      <td>0</td>\n",
       "      <td>[[0, 0, 0, 0, 0, 0, 0, 0, 0, 0, 0, 0, 0, 0, 0,...</td>\n",
       "      <td>683</td>\n",
       "    </tr>\n",
       "    <tr>\n",
       "      <th>11670</th>\n",
       "      <td>[[0, 0, 0, 0, 0, 0, 0, 0, 0, 0, 0, 0, 0, 0, 0,...</td>\n",
       "      <td>3003.0</td>\n",
       "      <td>lot2006</td>\n",
       "      <td>5.0</td>\n",
       "      <td>[]</td>\n",
       "      <td>0</td>\n",
       "      <td>[[0, 0, 0, 0, 0, 0, 0, 0, 0, 0, 0, 0, 0, 0, 0,...</td>\n",
       "      <td>674</td>\n",
       "    </tr>\n",
       "    <tr>\n",
       "      <th>11671</th>\n",
       "      <td>[[0, 0, 0, 0, 0, 0, 0, 0, 0, 0, 0, 0, 0, 0, 0,...</td>\n",
       "      <td>3003.0</td>\n",
       "      <td>lot2006</td>\n",
       "      <td>6.0</td>\n",
       "      <td>[]</td>\n",
       "      <td>0</td>\n",
       "      <td>[[0, 0, 0, 0, 0, 0, 0, 0, 0, 0, 0, 0, 0, 0, 0,...</td>\n",
       "      <td>666</td>\n",
       "    </tr>\n",
       "    <tr>\n",
       "      <th>11672</th>\n",
       "      <td>[[0, 0, 0, 0, 0, 0, 0, 0, 0, 0, 0, 0, 0, 0, 0,...</td>\n",
       "      <td>3007.0</td>\n",
       "      <td>lot2006</td>\n",
       "      <td>7.0</td>\n",
       "      <td>[]</td>\n",
       "      <td>0</td>\n",
       "      <td>[[0, 0, 0, 0, 0, 0, 0, 0, 0, 0, 0, 0, 0, 0, 0,...</td>\n",
       "      <td>669</td>\n",
       "    </tr>\n",
       "    <tr>\n",
       "      <th>11673</th>\n",
       "      <td>[[0, 0, 0, 0, 0, 0, 0, 0, 0, 0, 0, 0, 0, 0, 0,...</td>\n",
       "      <td>2995.0</td>\n",
       "      <td>lot2006</td>\n",
       "      <td>8.0</td>\n",
       "      <td>[]</td>\n",
       "      <td>0</td>\n",
       "      <td>[[0, 0, 0, 0, 0, 0, 0, 0, 0, 0, 0, 0, 0, 0, 0,...</td>\n",
       "      <td>664</td>\n",
       "    </tr>\n",
       "  </tbody>\n",
       "</table>\n",
       "</div>"
      ],
      "text/plain": [
       "                                                waferMap  dieSize  lotName  \\\n",
       "11669  [[0, 0, 0, 0, 0, 0, 0, 0, 0, 0, 0, 0, 0, 0, 0,...   2973.0  lot2006   \n",
       "11670  [[0, 0, 0, 0, 0, 0, 0, 0, 0, 0, 0, 0, 0, 0, 0,...   3003.0  lot2006   \n",
       "11671  [[0, 0, 0, 0, 0, 0, 0, 0, 0, 0, 0, 0, 0, 0, 0,...   3003.0  lot2006   \n",
       "11672  [[0, 0, 0, 0, 0, 0, 0, 0, 0, 0, 0, 0, 0, 0, 0,...   3007.0  lot2006   \n",
       "11673  [[0, 0, 0, 0, 0, 0, 0, 0, 0, 0, 0, 0, 0, 0, 0,...   2995.0  lot2006   \n",
       "\n",
       "       waferIndex failureType  encoding  \\\n",
       "11669         4.0          []         0   \n",
       "11670         5.0          []         0   \n",
       "11671         6.0          []         0   \n",
       "11672         7.0          []         0   \n",
       "11673         8.0          []         0   \n",
       "\n",
       "                                                      WM  zero_count  \n",
       "11669  [[0, 0, 0, 0, 0, 0, 0, 0, 0, 0, 0, 0, 0, 0, 0,...         683  \n",
       "11670  [[0, 0, 0, 0, 0, 0, 0, 0, 0, 0, 0, 0, 0, 0, 0,...         674  \n",
       "11671  [[0, 0, 0, 0, 0, 0, 0, 0, 0, 0, 0, 0, 0, 0, 0,...         666  \n",
       "11672  [[0, 0, 0, 0, 0, 0, 0, 0, 0, 0, 0, 0, 0, 0, 0,...         669  \n",
       "11673  [[0, 0, 0, 0, 0, 0, 0, 0, 0, 0, 0, 0, 0, 0, 0,...         664  "
      ]
     },
     "execution_count": 24,
     "metadata": {},
     "output_type": "execute_result"
    }
   ],
   "source": [
    "df.head()"
   ]
  },
  {
   "cell_type": "code",
   "execution_count": null,
   "metadata": {},
   "outputs": [],
   "source": []
  }
 ],
 "metadata": {
  "kernelspec": {
   "display_name": "Python 3",
   "language": "python",
   "name": "python3"
  },
  "language_info": {
   "codemirror_mode": {
    "name": "ipython",
    "version": 3
   },
   "file_extension": ".py",
   "mimetype": "text/x-python",
   "name": "python",
   "nbconvert_exporter": "python",
   "pygments_lexer": "ipython3",
   "version": "3.8.3"
  }
 },
 "nbformat": 4,
 "nbformat_minor": 5
}
