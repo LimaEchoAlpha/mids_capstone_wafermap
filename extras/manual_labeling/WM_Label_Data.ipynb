{
 "cells": [
  {
   "cell_type": "markdown",
   "metadata": {},
   "source": [
    "### Label Data\n",
    "\n",
    "Script written by Erik Zinn for manually labeling a subset of the unlabeled WM-811K dataset.  Labels are saved as json files."
   ]
  },
  {
   "cell_type": "code",
   "execution_count": 1,
   "metadata": {},
   "outputs": [],
   "source": [
    "import numpy as np\n",
    "import matplotlib.pyplot as plt\n",
    "import pandas as pd\n",
    "import os, json\n",
    "from matplotlib import colors\n",
    "from datetime import datetime as dt\n",
    "from IPython.display import clear_output\n",
    "%matplotlib inline\n",
    "\n",
    "import cv2\n",
    "\n",
    "# !pip install pickle5 > /dev/null\n",
    "# import pickle5 as pickle\n",
    "\n",
    "# def read_pickle(path):\n",
    "#     with open(path, \"rb\") as fh:\n",
    "#         df = pickle.load(fh)\n",
    "#     return df\n",
    "\n",
    "\n",
    "# Dictionary of XKCD color map\n",
    "cm_xkcd = colors.XKCD_COLORS.copy()\n",
    "# make a color map of fixed colors - blue passing die, fuchsia failing die\n",
    "cmap = colors.ListedColormap([cm_xkcd['xkcd:white'], cm_xkcd['xkcd:azure'], cm_xkcd['xkcd:fuchsia']])\n",
    "\n",
    "df = pd.read_pickle('WM_unlabeled.pkl')\n",
    "\n",
    "# remove corrupt imgs\n",
    "df['zero_count'] = df.WM.apply(lambda x: np.count_nonzero(x==0))\n",
    "df = df[df['zero_count'] < 730].copy()\n",
    "\n",
    "n = 600\n",
    "ranges = list(zip([i*n+1 if i else i for i in range(5)],[i*n for i in range(1,6)]))\n",
    "users = ['daniel', 'erik', 'lea', 'naga', 'scott']"
   ]
  },
  {
   "cell_type": "code",
   "execution_count": 2,
   "metadata": {},
   "outputs": [
    {
     "name": "stdout",
     "output_type": "stream",
     "text": [
      "index range:\t(2401, 3000)\n"
     ]
    },
    {
     "data": {
      "text/plain": [
       "['lot8526', 'lot8541', 'lot8559', 'lot8807', 'lot8833']"
      ]
     },
     "execution_count": 2,
     "metadata": {},
     "output_type": "execute_result"
    }
   ],
   "source": [
    "# enter your name like you see it above\n",
    "user = 'scott'\n",
    "\n",
    "user_n = users.index(user)\n",
    "rng = ranges[user_n]\n",
    "\n",
    "# print index for users to label\n",
    "print(f'index range:\\t{rng}')\n",
    "\n",
    "test_lots = df.iloc[rng[0]:rng[1]].lotName.unique().tolist()\n",
    "user_prompt = \"0: 'none', 1: 'Edge-Ring', 2: 'Edge-Loc', 3: 'Center',\\n4: 'Loc', 5: 'Scratch', 6: 'Random', 7: 'Donut', 8: 'Near-full'\\n9: CORRUPT DATA\\n\"\n",
    "user_labels = {i:[] for i in test_lots}\n",
    "\n",
    "# display first 5 lots to be labeled\n",
    "test_lots[:5]"
   ]
  },
  {
   "cell_type": "code",
   "execution_count": 3,
   "metadata": {
    "tags": []
   },
   "outputs": [
    {
     "data": {
      "image/png": "[encoded data removed]",
      "text/plain": [
       "<Figure size 288x288 with 1 Axes>"
      ]
     },
     "metadata": {
      "needs_background": "light"
     },
     "output_type": "display_data"
    },
    {
     "name": "stdout",
     "output_type": "stream",
     "text": [
      "Labeling wafer #625\n",
      "Wafer Lot: lot9433 (25.0)\n",
      "0: 'none', 1: 'Edge-Ring', 2: 'Edge-Loc', 3: 'Center',\n",
      "4: 'Loc', 5: 'Scratch', 6: 'Random', 7: 'Donut', 8: 'Near-full'\n",
      "9: CORRUPT DATA\n",
      "0\n"
     ]
    }
   ],
   "source": [
    "###### st_dt = dt.now()\n",
    "counter = 1\n",
    "\n",
    "for lot in test_lots:\n",
    "    \n",
    "    #select lot from df\n",
    "    lot_df = df[df.lotName == lot]\n",
    "\n",
    "    for i in range(min(25, lot_df.shape[0])):\n",
    "        # Loop over wafers per lot and plot ith image from lot\n",
    "        fig, ax = plt.subplots(1, 1, figsize=[4,4])\n",
    "        ax.imshow(lot_df.WM.iloc[i], cmap=cmap)\n",
    "        ax.axis('off')\n",
    "        plt.show()\n",
    "        \n",
    "        # LDC: Alternate view of wafer maps as binary (not resized)\n",
    "        #fig, ax = plt.subplots(1, 1, figsize=[4,4])\n",
    "        #img = lot_df.waferMap.iloc[i]\n",
    "        #ret, thresh_img = cv2.threshold(img, 1, 1, cv2.THRESH_BINARY)\n",
    "        #ax.imshow(thresh_img, cmap=cmap)\n",
    "        #ax.axis('off')\n",
    "        #plt.show()\n",
    "        \n",
    "        # While loop to ensure input is valid int between 0-9\n",
    "        # 9 == Corrupted data to be ignored\n",
    "        while 1:\n",
    "            print(f'Labeling wafer #{counter}')\n",
    "            print(f'Wafer Lot: {lot_df.lotName.iloc[i]} ({lot_df.waferIndex.iloc[i]})')\n",
    "            user_input = input(user_prompt)\n",
    "            try:\n",
    "                user_input = int(user_input)\n",
    "                if user_input > -1 and user_input < 10:\n",
    "                    break\n",
    "                else:\n",
    "                    print('Please ENTER an INT 0-9')\n",
    "            except:\n",
    "                print('Please ENTER an INT 0-9')\n",
    "\n",
    "        # add input to dictionary logging user responses\n",
    "        user_labels[lot].append(user_input)\n",
    "        counter += 1\n",
    "        \n",
    "        # clear cell output so there aren't 100s of images displayed\n",
    "        clear_output(wait=True)\n",
    "# print(dt.now()-st_dt)"
   ]
  },
  {
   "cell_type": "code",
   "execution_count": 5,
   "metadata": {},
   "outputs": [],
   "source": [
    "# with open(f\"user_labels/WM_labels_{user}.json\", \"w\") as outfile:\n",
    "#     json.dump(user_labels, outfile)"
   ]
  },
  {
   "cell_type": "code",
   "execution_count": null,
   "metadata": {},
   "outputs": [],
   "source": []
  },
  {
   "cell_type": "code",
   "execution_count": null,
   "metadata": {},
   "outputs": [],
   "source": []
  },
  {
   "cell_type": "code",
   "execution_count": null,
   "metadata": {},
   "outputs": [],
   "source": []
  },
  {
   "cell_type": "code",
   "execution_count": null,
   "metadata": {},
   "outputs": [],
   "source": []
  },
  {
   "cell_type": "code",
   "execution_count": null,
   "metadata": {},
   "outputs": [],
   "source": []
  },
  {
   "cell_type": "markdown",
   "metadata": {},
   "source": [
    "### Remove Corrupt imgs"
   ]
  },
  {
   "cell_type": "code",
   "execution_count": null,
   "metadata": {},
   "outputs": [],
   "source": [
    "test_df = df[df.zero_count > 730]\n",
    "print(test_df.shape)\n",
    "test_df = test_df.WM.sample(10,replace=False)\n",
    "\n",
    "for i in range(10):\n",
    "    img = test_df.iloc[i]\n",
    "    fig, ax = plt.subplots(1, 1, figsize=[2,2])\n",
    "    ax.imshow(img, cmap=cmap)\n",
    "    ax.axis('off')\n",
    "    plt.show()"
   ]
  },
  {
   "cell_type": "markdown",
   "metadata": {},
   "source": [
    "730 looks like a good count to remove, the samples that aren't perfect circles I don't consider \"corrupt\""
   ]
  },
  {
   "cell_type": "code",
   "execution_count": null,
   "metadata": {},
   "outputs": [],
   "source": []
  },
  {
   "cell_type": "markdown",
   "metadata": {},
   "source": [
    "### Remove lots I've already labeled \n",
    "this is a new DF with random lots selected - we don't want people relabeling the same data"
   ]
  },
  {
   "cell_type": "code",
   "execution_count": null,
   "metadata": {},
   "outputs": [],
   "source": [
    "l1 = pd.read_json('user_labels/WM_labels_naga.json')"
   ]
  },
  {
   "cell_type": "code",
   "execution_count": null,
   "metadata": {},
   "outputs": [],
   "source": [
    "ez_labeled_lots = l1.columns.tolist()"
   ]
  },
  {
   "cell_type": "code",
   "execution_count": null,
   "metadata": {},
   "outputs": [],
   "source": [
    "lots = df.lotName.unique().tolist()"
   ]
  },
  {
   "cell_type": "code",
   "execution_count": null,
   "metadata": {},
   "outputs": [],
   "source": [
    "[i for i in lots if i in ez_labeled_lots]"
   ]
  },
  {
   "cell_type": "code",
   "execution_count": null,
   "metadata": {},
   "outputs": [],
   "source": [
    "df[df.lotName.apply(lambda x: x not in ez_labeled_lots)].shape"
   ]
  },
  {
   "cell_type": "markdown",
   "metadata": {},
   "source": [
    "No lots are repeated from the data I labeled"
   ]
  }
 ],
 "metadata": {
  "kernelspec": {
   "display_name": "Python 3",
   "language": "python",
   "name": "python3"
  },
  "language_info": {
   "codemirror_mode": {
    "name": "ipython",
    "version": 3
   },
   "file_extension": ".py",
   "mimetype": "text/x-python",
   "name": "python",
   "nbconvert_exporter": "python",
   "pygments_lexer": "ipython3",
   "version": "3.8.3"
  }
 },
 "nbformat": 4,
 "nbformat_minor": 5
}
